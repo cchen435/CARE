{
 "cells": [
  {
   "cell_type": "code",
   "execution_count": 1,
   "metadata": {},
   "outputs": [],
   "source": [
    "import json\n",
    "import pandas as pd\n",
    "from pathlib2 import Path\n",
    "import sys\n",
    "import json"
   ]
  },
  {
   "cell_type": "code",
   "execution_count": 9,
   "metadata": {},
   "outputs": [],
   "source": [
    "def parse_replay_file(fname):\n",
    "    ids = list()\n",
    "    with open(fname) as fh:\n",
    "        for line in fh.readlines():\n",
    "            record = json.loads(line)\n",
    "            if record['status'] == 'Normal':\n",
    "                ids.append(record['id'])\n",
    "            if len(ids) == 200:\n",
    "                break;\n",
    "    return ids;\n",
    "        \n",
    "\n",
    "def parse_screen_file(fname, ids=[]):\n",
    "    faults = list()\n",
    "    with open(fname) as fh:\n",
    "        for line in fh.readlines():\n",
    "            record = json.loads(line)\n",
    "            if record['id'] in ids:\n",
    "                faults.append(record)\n",
    "                ids.remove(record['id'])\n",
    "            if len(ids) == 0: \n",
    "                break;\n",
    "    return faults\n",
    "\n",
    "def dump(fname, faults):\n",
    "    with open(fname, 'w') as fh:\n",
    "        for record in faults:\n",
    "            json.dump(record, fh)\n",
    "            fh.write('\\n')\n",
    "            fh.flush()"
   ]
  },
  {
   "cell_type": "code",
   "execution_count": 10,
   "metadata": {},
   "outputs": [],
   "source": [
    "# GTCP - O1\n",
    "RExpr = '/home/cchen/Documents/Projects/CARE/Benchmarks/GTCP/O1/RExprLive/RExprLive_replay.json'\n",
    "Screen = '/home/cchen/Documents/Projects/CARE/Benchmarks/GTCP/O1/screen/screen_faults.json'\n",
    "Timing = '/home/cchen/Documents/Projects/CARE/Benchmarks/GTCP/O1/timing.json'\n",
    "\n",
    "ids = parse_replay_file(RExpr)\n",
    "faults= parse_screen_file(Screen, ids)\n",
    "dump(Timing, faults)"
   ]
  },
  {
   "cell_type": "code",
   "execution_count": 11,
   "metadata": {},
   "outputs": [],
   "source": [
    "# GTCP - O0\n",
    "RExpr = '/home/cchen/Documents/Projects/CARE/Benchmarks/GTCP/O0/RExpr/RExpr_replay.json'\n",
    "Screen = '/home/cchen/Documents/Projects/CARE/Benchmarks/GTCP/O0/screen/screen_faults.json'\n",
    "Timing = '/home/cchen/Documents/Projects/CARE/Benchmarks/GTCP/O0/timing.json'\n",
    "\n",
    "ids = parse_replay_file(RExpr)\n",
    "faults= parse_screen_file(Screen, ids)\n",
    "dump(Timing, faults)"
   ]
  },
  {
   "cell_type": "code",
   "execution_count": 12,
   "metadata": {},
   "outputs": [],
   "source": [
    "# miniMD - O1\n",
    "RExpr = '/home/cchen/Documents/Projects/CARE/Benchmarks/miniMD/O1/RExprLive/RExprLive_replay.json'\n",
    "Screen = '/home/cchen/Documents/Projects/CARE/Benchmarks/miniMD/O1/screen/screen_faults.json'\n",
    "Timing = '/home/cchen/Documents/Projects/CARE/Benchmarks/miniMD/O1/timing.json'\n",
    "\n",
    "ids = parse_replay_file(RExpr)\n",
    "faults= parse_screen_file(Screen, ids)\n",
    "dump(Timing, faults)"
   ]
  },
  {
   "cell_type": "code",
   "execution_count": 13,
   "metadata": {},
   "outputs": [],
   "source": [
    "# miniMD - O0\n",
    "RExpr = '/home/cchen/Documents/Projects/CARE/Benchmarks/miniMD/O0/RExpr/RExpr_replay.json'\n",
    "Screen = '/home/cchen/Documents/Projects/CARE/Benchmarks/miniMD/O0/screen/screen_faults.json'\n",
    "Timing = '/home/cchen/Documents/Projects/CARE/Benchmarks/miniMD/O0/timing.json'\n",
    "\n",
    "ids = parse_replay_file(RExpr)\n",
    "faults= parse_screen_file(Screen, ids)\n",
    "dump(Timing, faults)"
   ]
  },
  {
   "cell_type": "code",
   "execution_count": 14,
   "metadata": {},
   "outputs": [],
   "source": [
    "# hpccg - O1\n",
    "RExpr = '/home/cchen/Documents/Projects/CARE/Benchmarks/hpccg/O1/RExprLive/RExprLive_replay.json'\n",
    "Screen = '/home/cchen/Documents/Projects/CARE/Benchmarks/hpccg/O1/screen/screen_faults.json'\n",
    "Timing = '/home/cchen/Documents/Projects/CARE/Benchmarks/hpccg/O1/timing.json'\n",
    "\n",
    "ids = parse_replay_file(RExpr)\n",
    "faults= parse_screen_file(Screen, ids)\n",
    "dump(Timing, faults)"
   ]
  },
  {
   "cell_type": "code",
   "execution_count": 15,
   "metadata": {},
   "outputs": [],
   "source": [
    "# hpccg - O0\n",
    "RExpr = '/home/cchen/Documents/Projects/CARE/Benchmarks/hpccg/O0/RExpr/RExpr_replay.json'\n",
    "Screen = '/home/cchen/Documents/Projects/CARE/Benchmarks/hpccg/O0/screen/screen_faults.json'\n",
    "Timing = '/home/cchen/Documents/Projects/CARE/Benchmarks/hpccg/O0/timing.json'\n",
    "\n",
    "ids = parse_replay_file(RExpr)\n",
    "faults= parse_screen_file(Screen, ids)\n",
    "dump(Timing, faults)"
   ]
  },
  {
   "cell_type": "code",
   "execution_count": 16,
   "metadata": {},
   "outputs": [],
   "source": [
    "# CoMD - O0\n",
    "RExpr = '/home/cchen/Documents/Projects/CARE/Benchmarks/CoMD/O0/RExpr/RExpr_replay.json'\n",
    "Screen = '/home/cchen/Documents/Projects/CARE/Benchmarks/CoMD/O0/screen/screen_faults.json'\n",
    "Timing = '/home/cchen/Documents/Projects/CARE/Benchmarks/CoMD/O0/timing.json'\n",
    "\n",
    "ids = parse_replay_file(RExpr)\n",
    "faults= parse_screen_file(Screen, ids)\n",
    "dump(Timing, faults)"
   ]
  },
  {
   "cell_type": "code",
   "execution_count": 17,
   "metadata": {},
   "outputs": [],
   "source": [
    "# CoMD - O1\n",
    "RExpr = '/home/cchen/Documents/Projects/CARE/Benchmarks/CoMD/O1/RExpr/RExpr_replay.json'\n",
    "Screen = '/home/cchen/Documents/Projects/CARE/Benchmarks/CoMD/O1/screen/screen_faults.json'\n",
    "Timing = '/home/cchen/Documents/Projects/CARE/Benchmarks/CoMD/O1/timing.json'\n",
    "\n",
    "ids = parse_replay_file(RExpr)\n",
    "faults= parse_screen_file(Screen, ids)\n",
    "dump(Timing, faults)"
   ]
  },
  {
   "cell_type": "code",
   "execution_count": null,
   "metadata": {},
   "outputs": [],
   "source": []
  }
 ],
 "metadata": {
  "kernelspec": {
   "display_name": "Python 3",
   "language": "python",
   "name": "python3"
  },
  "language_info": {
   "codemirror_mode": {
    "name": "ipython",
    "version": 3
   },
   "file_extension": ".py",
   "mimetype": "text/x-python",
   "name": "python",
   "nbconvert_exporter": "python",
   "pygments_lexer": "ipython3",
   "version": "3.7.1"
  }
 },
 "nbformat": 4,
 "nbformat_minor": 2
}
