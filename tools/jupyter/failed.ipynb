{
 "cells": [
  {
   "cell_type": "code",
   "execution_count": 2,
   "metadata": {},
   "outputs": [],
   "source": [
    "import pandas as pd\n",
    "import json"
   ]
  },
  {
   "cell_type": "code",
   "execution_count": 3,
   "metadata": {},
   "outputs": [],
   "source": [
    "def parse_rexpr_json(ffile):\n",
    "    ID = list()\n",
    "    Loc = list()\n",
    "    Status = list()\n",
    "    \n",
    "    with open(ffile) as fh:\n",
    "        for line in fh.readlines():\n",
    "            record = json.loads(line)\n",
    "            Status.append(record['status'])\n",
    "            ID.append(record['id'])\n",
    "            Loc.append(record['loc']['location']['base'])\n",
    "    d = {'ID': ID, \"Loc\": Loc, \"Status\": Status}\n",
    "    return pd.DataFrame(d)"
   ]
  },
  {
   "cell_type": "code",
   "execution_count": 5,
   "metadata": {},
   "outputs": [
    {
     "name": "stdout",
     "output_type": "stream",
     "text": [
      "Status Dist: \n",
      "Normal     2652\n",
      "11         1191\n",
      "127         614\n",
      "SIGSEGV     455\n",
      "SIGABRT     347\n",
      "SIGBUS      105\n",
      "1            52\n",
      "Name: Status, dtype: int64\n",
      "Target Dist:\n",
      "rbp    543\n",
      "rdi    345\n",
      "rsp    320\n",
      "rdx    171\n",
      "rax    119\n",
      "rsi    112\n",
      "ecx     23\n",
      "eax      8\n",
      "esi      3\n",
      "rcx      2\n",
      "Name: Loc, dtype: int64\n",
      "0.6900858704137393\n"
     ]
    }
   ],
   "source": [
    "fw0=\"/home/cchen/Documents/Projects/CARE/Benchmarks/lulesh/O0/RExpr/tmp-worker-0.json\"\n",
    "fw0=\"/home/cchen/Documents/Projects/CARE/Benchmarks/miniFE/O0.bak/RExpr/RExpr_replay.json\"\n",
    "d = parse_rexpr_json(fw0)\n",
    "print(\"Status Dist: \")\n",
    "print(d['Status'].value_counts())\n",
    "d = d.loc[((d['Status'] == 'SIGSEGV') | (d['Status'] == '11'))]\n",
    "print(\"Target Dist:\")\n",
    "print(d['Loc'].value_counts())\n",
    "print(2652/(2652+1191))"
   ]
  },
  {
   "cell_type": "code",
   "execution_count": 5,
   "metadata": {},
   "outputs": [
    {
     "name": "stdout",
     "output_type": "stream",
     "text": [
      "Status Dist: \n",
      "Normal     357\n",
      "127        222\n",
      "SIGSEGV    190\n",
      "11         117\n",
      "SIGABRT     55\n",
      "SIGBUS       6\n",
      "Name: Status, dtype: int64\n",
      "Target Dist:\n",
      "rcx     224\n",
      "rax     160\n",
      "rdi     150\n",
      "rsi     131\n",
      "rsp      79\n",
      "rbp      77\n",
      "rdx      67\n",
      "r14      18\n",
      "esi      14\n",
      "r11      11\n",
      "edx       6\n",
      "r12       5\n",
      "eax       3\n",
      "xmm0      2\n",
      "Name: Loc, dtype: int64\n"
     ]
    }
   ],
   "source": [
    "fw1=\"/home/cchen/Documents/Projects/CARE/Benchmarks/lulesh/O0/RExpr/tmp-worker-1.json\"\n",
    "d = parse_rexpr_json(fw1)\n",
    "print(\"Status Dist: \")\n",
    "print(d['Status'].value_counts())\n",
    "print(\"Target Dist:\")\n",
    "print(d['Loc'].value_counts())"
   ]
  },
  {
   "cell_type": "code",
   "execution_count": null,
   "metadata": {},
   "outputs": [],
   "source": [
    "fw2=\"/home/cchen/Documents/Projects/CARE/Benchmarks/lulesh/O0/RExpr/tmp-worker-2.json\"\n",
    "d = parse_rexpr_json(fw2)"
   ]
  },
  {
   "cell_type": "code",
   "execution_count": null,
   "metadata": {},
   "outputs": [],
   "source": [
    "fw3=\"/home/cchen/Documents/Projects/CARE/Benchmarks/lulesh/O0/RExpr/tmp-worker-3.json\"\n",
    "d = parse_rexpr_json(fw3)"
   ]
  }
 ],
 "metadata": {
  "kernelspec": {
   "display_name": "Python 3",
   "language": "python",
   "name": "python3"
  },
  "language_info": {
   "codemirror_mode": {
    "name": "ipython",
    "version": 3
   },
   "file_extension": ".py",
   "mimetype": "text/x-python",
   "name": "python",
   "nbconvert_exporter": "python",
   "pygments_lexer": "ipython3",
   "version": "3.7.1"
  }
 },
 "nbformat": 4,
 "nbformat_minor": 2
}
