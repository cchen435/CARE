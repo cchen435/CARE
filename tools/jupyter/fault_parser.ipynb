{
 "cells": [
  {
   "cell_type": "code",
   "execution_count": 1,
   "metadata": {},
   "outputs": [],
   "source": [
    "import json\n",
    "import pandas as pd"
   ]
  },
  {
   "cell_type": "code",
   "execution_count": 2,
   "metadata": {},
   "outputs": [],
   "source": [
    "class Fault(object):\n",
    "    def __init__(self, id, ip, iter, bit, func, latency):\n",
    "        self.id = id\n",
    "        self.ip = ip\n",
    "        self.iter = iter\n",
    "        self.bit = bit\n",
    "        self.func = func\n",
    "        self.latency = latency\n",
    "        \n",
    "    \n",
    "    \n",
    "    def __repr__(self):\n",
    "        return str({'ID': self.id, 'IP': self.ip, 'iter': self.iter, 'bit': self.bit, 'latency': self.latency})\n",
    "        print(\"(\", self.id, self.ip, self.iter, self.bit, self.latency, \")\")\n",
    "        # print(\"(ID: %s, IP: %s, Iter: %s, Bit: %d, Latency: %d)\" % (self.id, self.ip, self.iter, self.bit, self.latency))\n",
    "\n",
    "    def __str__(self):\n",
    "        return str({'ID': self.id, 'IP': self.ip, 'iter': self.iter, 'bit': self.bit, 'latency': self.latency})\n",
    "    \n",
    "    def __lt__(self, other):\n",
    "        return self.id < other.id\n",
    "        \n",
    "def json_parser(ffile, filter='SIGSEGV'):\n",
    "    ID = list()\n",
    "    IP = list()\n",
    "    IT = list()\n",
    "    BIT = list()\n",
    "    Func = list()\n",
    "    Latency = list()\n",
    "    \n",
    "    with open(ffile) as fh:\n",
    "        for line in fh.readlines():\n",
    "            record = json.loads(line)\n",
    "\n",
    "            status = record['status']\n",
    "            if status != filter:\n",
    "                continue\n",
    "            \n",
    "            ID.append(record['id'])\n",
    "            IP.append(record['fault']['dyn_inst'][0])\n",
    "            IT.append(record['fault']['dyn_inst'][1])\n",
    "            BIT.append(record['fault']['bit_flipped'])\n",
    "            Func.append(record['fault']['parent_func'])\n",
    "            Latency.append(len(record['track']))\n",
    "    d = {'ID': ID, 'IP': IP, 'Iter': IT, 'Bit': BIT, 'Func': Func, 'Latency': Latency}\n",
    "    return pd.DataFrame(d)"
   ]
  },
  {
   "cell_type": "code",
<<<<<<< HEAD
   "execution_count": 9,
=======
   "execution_count": 4,
>>>>>>> a8526101866edd0cf659e568fb46cb3f4fd3e317
   "metadata": {},
   "outputs": [
    {
     "name": "stdout",
     "output_type": "stream",
     "text": [
<<<<<<< HEAD
      "5459\n"
=======
      "6989\n"
>>>>>>> a8526101866edd0cf659e568fb46cb3f4fd3e317
     ]
    }
   ],
   "source": [
<<<<<<< HEAD
    "ffile = '/home/cchen/Documents/Projects/CARE/Benchmarks/miniFE/O0.bak/screen/screen_faults.json'\n",
=======
    "ffile = '/home/cchen/Documents/Projects/CARE/Benchmarks/lulesh/O1/screen/screen_faults.json'\n",
>>>>>>> a8526101866edd0cf659e568fb46cb3f4fd3e317
    "data = json_parser(ffile)\n",
    "print(len(data))"
   ]
  },
  {
   "cell_type": "code",
<<<<<<< HEAD
   "execution_count": 5,
=======
   "execution_count": 6,
>>>>>>> a8526101866edd0cf659e568fb46cb3f4fd3e317
   "metadata": {},
   "outputs": [
    {
     "name": "stdout",
     "output_type": "stream",
     "text": [
      "Latency\n",
<<<<<<< HEAD
      "(0, 10]       3226\n",
      "(10, 50]       812\n",
      "(50, 100]       71\n",
      "(100, 400]      51\n",
      "(400, 450]     450\n",
=======
      "(0, 10]       6049\n",
      "(10, 50]       529\n",
      "(50, 100]       65\n",
      "(100, 400]      13\n",
      "(400, 450]     333\n",
>>>>>>> a8526101866edd0cf659e568fb46cb3f4fd3e317
      "Name: Latency, dtype: int64\n"
     ]
    }
   ],
   "source": [
    "ranges = [0, 10, 50, 100, 400, 450]\n",
    "latency = data['Latency']\n",
    "dist = latency.groupby(pd.cut(latency, ranges)).count()\n",
    "print(dist)"
   ]
  },
  {
   "cell_type": "code",
<<<<<<< HEAD
   "execution_count": 7,
   "metadata": {},
   "outputs": [
    {
     "data": {
      "text/plain": [
       "miniFE::matvec_std<miniFE::CSRMatrix<double, int, int>, miniFE::Vector<double, int, int> >::operator()                                                                     2153\n",
       "miniFE::daxpby<miniFE::Vector<double, int, int> >                                                                                                                           370\n",
       "std::_Rb_tree<int, int, std::_Identity<int>, std::less<int>, std::allocator<int> >::_M_lower_bound                                                                          324\n",
       "std::__lower_bound<int*, int, __gnu_cxx::__ops::_Iter_less_val>                                                                                                             256\n",
       "miniFE::Hex8::diffusionMatrix_symm<double>                                                                                                                                  151\n",
       "miniFE::find_row_for_id<int>                                                                                                                                                125\n",
       "miniFE::sum_into_row<int, double>                                                                                                                                            93\n",
       "miniFE::Hex8::gradients_and_detJ<double>                                                                                                                                     90\n",
       "__gnu_cxx::__aligned_membuf<int>::_M_addr                                                                                                                                    88\n",
       "miniFE::sum_in_symm_elem_matrix<miniFE::CSRMatrix<double, int, int> >                                                                                                        71\n",
       "std::_Rb_tree<int, int, std::_Identity<int>, std::less<int>, std::allocator<int> >::end                                                                                      67\n",
       "miniFE::Hex8::sourceVector<double>                                                                                                                                           66\n",
       "std::_Identity<int>::operator()                                                                                                                                              54\n",
       "std::_Rb_tree<int, int, std::_Identity<int>, std::less<int>, std::allocator<int> >::find                                                                                     53\n",
       "std::advance<int*, long>                                                                                                                                                     51\n",
       "std::_Rb_tree<int, int, std::_Identity<int>, std::less<int>, std::allocator<int> >::_S_key                                                                                   51\n",
       "std::_Rb_tree<int, int, std::_Identity<int>, std::less<int>, std::allocator<int> >::_S_left                                                                                  48\n",
       "miniFE::Hex8::gradients_and_invJ_and_detJ<double>                                                                                                                            45\n",
       "std::__distance<int*>                                                                                                                                                        40\n",
       "std::_Rb_tree_node<int>::_M_valptr                                                                                                                                           40\n",
       "MatrixInitOp<miniFE::CSRMatrix<double, int, int> >::operator()                                                                                                               36\n",
       "std::_Rb_tree_const_iterator<std::pair<int const, int> >::operator->                                                                                                         34\n",
       "std::distance<int*>                                                                                                                                                          28\n",
       "std::_Rb_tree<int, std::pair<int const, int>, std::_Select1st<std::pair<int const, int> >, std::less<int>, std::allocator<std::pair<int const, int> > >::_M_end              26\n",
       "std::_Rb_tree<int, std::pair<int const, int>, std::_Select1st<std::pair<int const, int> >, std::less<int>, std::allocator<std::pair<int const, int> > >::_M_lower_bound      25\n",
       "miniFE::fill<double>                                                                                                                                                         24\n",
       "std::_Rb_tree<int, std::pair<int const, int>, std::_Select1st<std::pair<int const, int> >, std::less<int>, std::allocator<std::pair<int const, int> > >::_M_begin            23\n",
       "std::_Rb_tree<int, std::pair<int const, int>, std::_Select1st<std::pair<int const, int> >, std::less<int>, std::allocator<std::pair<int const, int> > >::end                 22\n",
       "std::_Rb_tree<int, std::pair<int const, int>, std::_Select1st<std::pair<int const, int> >, std::less<int>, std::allocator<std::pair<int const, int> > >::begin               21\n",
       "__gnu_cxx::__aligned_membuf<std::pair<int const, int> >::_M_addr                                                                                                             20\n",
       "miniFE::generate_matrix_structure<miniFE::CSRMatrix<double, int, int> >                                                                                                      20\n",
       "std::__fill_n_a<double*, unsigned long, double>                                                                                                                              19\n",
       "std::_Rb_tree<int, int, std::_Identity<int>, std::less<int>, std::allocator<int> >::_M_begin                                                                                 17\n",
       "std::lower_bound<int*, int>                                                                                                                                                  16\n",
       "miniFE::CSRMatrix<double, int, int>::get_row_pointers                                                                                                                        15\n",
       "sort_if_needed<int>                                                                                                                                                          14\n",
       "std::vector<double, std::allocator<double> >::operator[]                                                                                                                     14\n",
       "Name: Func, dtype: int64"
      ]
     },
     "execution_count": 7,
     "metadata": {},
     "output_type": "execute_result"
=======
   "execution_count": 8,
   "metadata": {},
   "outputs": [
    {
     "name": "stdout",
     "output_type": "stream",
     "text": [
      "std::vector<double, std::allocator<double> >::operator[]    1378\n",
      "CalcEnergyForElems                                          1013\n",
      "CalcPressureForElems                                         827\n",
      "CalcElemFBHourglassForce                                     674\n",
      "EvalEOSForElems                                              569\n",
      "CalcFBHourglassForceForElems                                 350\n",
      "CollectDomainNodesToElemNodes                                242\n",
      "CalcElemNodeNormals                                          161\n",
      "IntegrateStressForElems                                      144\n",
      "CalcKinematicsForElems                                       138\n",
      "CalcMonotonicQGradientsForElems                              104\n",
      "CalcHourglassControlForElems                                 102\n",
      "CalcElemVolumeDerivative                                      84\n",
      "Domain::y                                                     83\n",
      "Domain::zd                                                    82\n",
      "Domain::yd                                                    75\n",
      "Domain::xd                                                    64\n",
      "Domain::fz                                                    61\n",
      "SumElemStressesToNodeForces                                   54\n",
      "ApplyMaterialPropertiesForElems                               54\n",
      "CalcMonotonicQRegionForElems                                  53\n",
      "std::__fill_n_a<double*, unsigned long, double>               53\n",
      "Domain::z                                                     53\n",
      "Domain::nodelist                                              42\n",
      "std::vector<int, std::allocator<int> >::operator[]            37\n",
      "CalcPositionForNodes                                          37\n",
      "CalcElemCharacteristicLength                                  34\n",
      "Domain::p                                                     32\n",
      "Domain::delv                                                  32\n",
      "Domain::vdov                                                  26\n",
      "                                                            ... \n",
      "Domain::q                                                     19\n",
      "CalcCourantConstraintForElems                                 16\n",
      "Domain::regElemSize                                           16\n",
      "Domain::x                                                     16\n",
      "Domain::delv_eta                                              15\n",
      "Domain::e                                                     15\n",
      "CalcAccelerationForNodes                                      15\n",
      "Domain::zdd                                                   14\n",
      "CalcVolumeForceForElems                                       14\n",
      "std::max<double>                                              12\n",
      "CalcLagrangeElements                                          12\n",
      "Domain::volo                                                  12\n",
      "CalcHydroConstraintForElems                                   12\n",
      "Domain::lxim                                                  11\n",
      "CalcForceForNodes                                             10\n",
      "Domain::v                                                      9\n",
      "Domain::nodalMass                                              7\n",
      "Domain::delv_zeta                                              5\n",
      "Domain::regElemlist                                            5\n",
      "Domain::dyy                                                    5\n",
      "Domain::dzz                                                    4\n",
      "Domain::letam                                                  4\n",
      "Domain::fy                                                     3\n",
      "Domain::ss                                                     3\n",
      "InitStressTermsForElems                                        3\n",
      "CalcVelocityForNodes                                           3\n",
      "CalcElemVolume                                                 2\n",
      "Domain::symmX                                                  2\n",
      "Domain::ql                                                     1\n",
      "CalcQForElems                                                  1\n",
      "Name: Func, Length: 63, dtype: int64\n"
     ]
>>>>>>> a8526101866edd0cf659e568fb46cb3f4fd3e317
    }
   ],
   "source": [
    "funcs = data['Func']\n",
    "print(funcs.value_counts())"
   ]
  },
  {
   "cell_type": "code",
   "execution_count": null,
   "metadata": {},
   "outputs": [],
   "source": []
  }
 ],
 "metadata": {
  "kernelspec": {
   "display_name": "Python 3",
   "language": "python",
   "name": "python3"
  },
  "language_info": {
   "codemirror_mode": {
    "name": "ipython",
    "version": 3
   },
   "file_extension": ".py",
   "mimetype": "text/x-python",
   "name": "python",
   "nbconvert_exporter": "python",
   "pygments_lexer": "ipython3",
   "version": "3.7.1"
  }
 },
 "nbformat": 4,
 "nbformat_minor": 2
}
