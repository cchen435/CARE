{
 "cells": [
  {
   "cell_type": "code",
   "execution_count": 2,
   "metadata": {},
   "outputs": [],
   "source": [
    "import json\n",
    "import pandas as pd"
   ]
  },
  {
   "cell_type": "code",
   "execution_count": 3,
   "metadata": {},
   "outputs": [],
   "source": [
    "class Fault(object):\n",
    "    def __init__(self, id, ip, iter, bit, func, latency):\n",
    "        self.id = id\n",
    "        self.ip = ip\n",
    "        self.iter = iter\n",
    "        self.bit = bit\n",
    "        self.func = func\n",
    "        self.latency = latency\n",
    "        \n",
    "    \n",
    "    \n",
    "    def __repr__(self):\n",
    "        return str({'ID': self.id, 'IP': self.ip, 'iter': self.iter, 'bit': self.bit, 'latency': self.latency})\n",
    "        print(\"(\", self.id, self.ip, self.iter, self.bit, self.latency, \")\")\n",
    "        # print(\"(ID: %s, IP: %s, Iter: %s, Bit: %d, Latency: %d)\" % (self.id, self.ip, self.iter, self.bit, self.latency))\n",
    "\n",
    "    def __str__(self):\n",
    "        return str({'ID': self.id, 'IP': self.ip, 'iter': self.iter, 'bit': self.bit, 'latency': self.latency})\n",
    "    \n",
    "    def __lt__(self, other):\n",
    "        return self.id < other.id\n",
    "        \n",
    "def json_parser(ffile, filter='SIGSEGV'):\n",
    "    ID = list()\n",
    "    IP = list()\n",
    "    IT = list()\n",
    "    BIT = list()\n",
    "    Func = list()\n",
    "    Latency = list()\n",
    "    \n",
    "    with open(ffile) as fh:\n",
    "        for line in fh.readlines():\n",
    "            record = json.loads(line)\n",
    "\n",
    "            status = record['status']\n",
    "            if status != filter:\n",
    "                continue\n",
    "            \n",
    "            ID.append(record['id'])\n",
    "            IP.append(record['fault']['dyn_inst'][0])\n",
    "            IT.append(record['fault']['dyn_inst'][1])\n",
    "            BIT.append(record['fault']['bit_flipped'])\n",
    "            Func.append(record['fault']['parent_func'])\n",
    "            Latency.append(len(record['track']))\n",
    "    d = {'ID': ID, 'IP': IP, 'Iter': IT, 'Bit': BIT, 'Func': Func, 'Latency': Latency}\n",
    "    return pd.DataFrame(d)"
   ]
  },
  {
   "cell_type": "code",
   "execution_count": 22,
   "metadata": {},
   "outputs": [
    {
     "name": "stdout",
     "output_type": "stream",
     "text": [
      "4856\n"
     ]
    }
   ],
   "source": [
    "ffile = '/home/cchen/Documents/Projects/CARE/Benchmarks/miniMD/O0/screen/screen_faults.json'\n",
    "data = json_parser(ffile)\n",
    "print(len(data))"
   ]
  },
  {
   "cell_type": "code",
   "execution_count": 23,
   "metadata": {},
   "outputs": [
    {
     "name": "stdout",
     "output_type": "stream",
     "text": [
      "Latency\n",
      "(0, 5]        4108\n",
      "(5, 50]        670\n",
      "(50, 100]        4\n",
      "(100, 400]       2\n",
      "(400, 450]      72\n",
      "Name: Latency, dtype: int64\n"
     ]
    }
   ],
   "source": [
    "ranges = [0, 5, 50, 100, 400, 450]\n",
    "latency = data['Latency']\n",
    "dist = latency.groupby(pd.cut(latency, ranges)).count()\n",
    "print(dist)"
   ]
  },
  {
   "cell_type": "code",
   "execution_count": 15,
   "metadata": {},
   "outputs": [
    {
     "data": {
      "text/plain": [
       "pushi                   1450\n",
       "chargei                 1215\n",
       "calc_moments             896\n",
       "abs_min_int              796\n",
       "chargei_init             256\n",
       "radial_bin_particles     101\n",
       "abs_min_real              48\n",
       "poisson                   36\n",
       "setup                     34\n",
       "poisson_initial           21\n",
       "RngStream_RandU01         20\n",
       "smooth                    18\n",
       "field                      4\n",
       "Name: Func, dtype: int64"
      ]
     },
     "execution_count": 15,
     "metadata": {},
     "output_type": "execute_result"
    }
   ],
   "source": [
    "funcs = data['Func']\n",
    "funcs.value_counts()"
   ]
  },
  {
   "cell_type": "code",
   "execution_count": null,
   "metadata": {},
   "outputs": [],
   "source": []
  }
 ],
 "metadata": {
  "kernelspec": {
   "display_name": "Python 3",
   "language": "python",
   "name": "python3"
  },
  "language_info": {
   "codemirror_mode": {
    "name": "ipython",
    "version": 3
   },
   "file_extension": ".py",
   "mimetype": "text/x-python",
   "name": "python",
   "nbconvert_exporter": "python",
   "pygments_lexer": "ipython3",
   "version": "3.7.1"
  }
 },
 "nbformat": 4,
 "nbformat_minor": 2
}
