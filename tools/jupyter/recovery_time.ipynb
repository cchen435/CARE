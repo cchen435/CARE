{
 "cells": [
  {
   "cell_type": "code",
   "execution_count": 52,
   "metadata": {},
   "outputs": [],
   "source": [
    "import os\n",
    "import sys\n",
    "import pandas as pd\n",
    "import numpy as np\n",
    "import matplotlib.pyplot as plt\n",
    "import seaborn as sns\n",
    "from matplotlib.ticker import FuncFormatter"
   ]
  },
  {
   "cell_type": "code",
   "execution_count": 140,
   "metadata": {},
   "outputs": [],
   "source": [
    "def read_data(fname):\n",
    "    data = pd.read_csv(fname, sep=';', header=None)\n",
    "    ids = data[0].str.split(':', expand=True)[1]\n",
    "    injections = ids.nunique()\n",
    "    tmp = data[7].str.split(',', expand = True)\n",
    "    init = pd.to_numeric(tmp[0].str.split(': ', expand=True)[1]).sum()/injections\n",
    "    diag = pd.to_numeric(tmp[1].str.split(': ', expand=True)[1]).sum()/injections\n",
    "    bkey = pd.to_numeric(tmp[2].str.split(': ', expand=True)[1]).sum()/injections\n",
    "    prep = pd.to_numeric(data[8].str.split(': ', expand=True)[1]).sum()/injections\n",
    "    gloc = pd.to_numeric(data[9].str.split(': ', expand=True)[1]).sum()/injections\n",
    "    exec = pd.to_numeric(data[10].str.split(': ', expand=True)[1]).sum()/injections\n",
    "    \n",
    "    return(ids.size/injections, init+gloc, init+diag+gloc, init+diag+prep+gloc+ exec)\n",
    "\n",
    "def clean_data(fname):\n",
    "    data = pd.read_csv(fname, sep=';', header=None)\n",
    "    ids = data[0].str.split(':', expand=True)[1]\n",
    "    injections = ids.nunique()\n",
    "    tmp = data[7].str.split(',', expand = True)\n",
    "    init = pd.to_numeric(tmp[0].str.split(': ', expand=True)[1])\n",
    "    diag = pd.to_numeric(tmp[1].str.split(': ', expand=True)[1])\n",
    "    bkey = pd.to_numeric(tmp[2].str.split(': ', expand=True)[1])\n",
    "    prep = pd.to_numeric(data[8].str.split(': ', expand=True)[1])\n",
    "    gloc = pd.to_numeric(data[9].str.split(': ', expand=True)[1])\n",
    "    exec = pd.to_numeric(data[10].str.split(': ', expand=True)[1])\n",
    "    print (ids)\n",
    "    print (init+diag+bkey+prep+gloc+exec)\n",
    "    \n",
    "    "
   ]
  },
  {
   "cell_type": "code",
   "execution_count": 141,
   "metadata": {},
   "outputs": [],
   "source": [
    "#GTCP\n",
    "O0 = '/home/cchen/Documents/Projects/CARE/Benchmarks/GTCP/O0/Timing/worker_0_record.care'\n",
    "O1 = '/home/cchen/Documents/Projects/CARE/Benchmarks/GTCP/O1/Timing/worker_0_record.care'\n",
    "gtcp_t0 = read_data(O0)\n",
    "gtcp_t1 = read_data(O1)"
   ]
  },
  {
   "cell_type": "code",
   "execution_count": 142,
   "metadata": {},
   "outputs": [],
   "source": [
    "#HPCCG\n",
    "O0 = '/home/cchen/Documents/Projects/CARE/Benchmarks/hpccg/O0/Timing/worker_0_record.care'\n",
    "O1 = '/home/cchen/Documents/Projects/CARE/Benchmarks/hpccg/O1/Timing/worker_0_record.care'\n",
    "hpccg_t0 = read_data(O0)\n",
    "hpccg_t1 = read_data(O1)"
   ]
  },
  {
   "cell_type": "code",
   "execution_count": 143,
   "metadata": {},
   "outputs": [],
   "source": [
    "#miniMD\n",
    "O0 = '/home/cchen/Documents/Projects/CARE/Benchmarks/miniMD/O0/Timing/worker_0_record.care'\n",
    "O1 = '/home/cchen/Documents/Projects/CARE/Benchmarks/miniMD/O1/Timing/worker_0_record.care'\n",
    "minimd_t0 = read_data(O0)\n",
    "minimd_t1 = read_data(O1)"
   ]
  },
  {
   "cell_type": "code",
   "execution_count": 144,
   "metadata": {},
   "outputs": [],
   "source": [
    "#CoMD\n",
    "O0 = '/home/cchen/Documents/Projects/CARE/Benchmarks/CoMD/O0/Timing/worker_0_record.care'\n",
    "O1 = '/home/cchen/Documents/Projects/CARE/Benchmarks/CoMD/O1/Timing/worker_0_record.care'\n",
    "comd_t0 = read_data(O0)\n",
    "comd_t1 = read_data(O1)"
   ]
  },
  {
   "cell_type": "code",
   "execution_count": 145,
   "metadata": {},
   "outputs": [
    {
     "name": "stdout",
     "output_type": "stream",
     "text": [
      "  Application Scheme    repeat       Init       diag       exec\n",
      "0       GTC-P     O0  1.000000  18.310277  18.342933  18.355769\n",
      "1       HPCCG     O0  1.792929  13.480894  13.523859  13.545288\n",
      "2      miniMD     O0  1.035294  17.069471  17.104653  17.117829\n",
      "3        CoMD     O0  1.000000  15.453820  15.490639  15.503803\n",
      "4       GTC-P     O1  1.819588  26.431366  26.471340  26.504753\n",
      "5       HPCCG     O1  1.792929  14.536449  14.579414  14.600843\n",
      "6      miniMD     O1  1.010471  18.923649  18.957272  18.970518\n",
      "7        CoMD     O1  1.333333  21.679533  21.719900  21.736900\n"
     ]
    }
   ],
   "source": [
    "data = pd.DataFrame({'Application': ['GTC-P', 'HPCCG', 'miniMD', 'CoMD', 'GTC-P', 'HPCCG', 'miniMD', 'CoMD'], \n",
    "                     'Scheme': ['O0', 'O0', 'O0', 'O0', 'O1', 'O1', 'O1', 'O1'], \n",
    "                     'repeat': [gtcp_t0[0], hpccg_t0[0], minimd_t0[0], comd_t0[0], gtcp_t1[0], hpccg_t1[0], minimd_t1[0], comd_t1[0]],\n",
    "                     'Init': [gtcp_t0[1], hpccg_t0[1], minimd_t0[1], comd_t0[1], gtcp_t1[1], hpccg_t1[1], minimd_t1[1], comd_t1[1]],\n",
    "                     'diag': [gtcp_t0[2], hpccg_t0[2], minimd_t0[2], comd_t0[2], gtcp_t1[2], hpccg_t1[2], minimd_t1[2], comd_t1[2]],\n",
    "                     'exec': [gtcp_t0[3], hpccg_t0[3], minimd_t0[3], comd_t0[3], gtcp_t1[3], hpccg_t1[3], minimd_t1[3], comd_t1[3]],\n",
    "                    })\n",
    "\n",
    "print(data)"
   ]
  },
  {
   "cell_type": "code",
   "execution_count": 146,
   "metadata": {},
   "outputs": [
    {
     "data": {
      "text/plain": [
       "<matplotlib.axes._subplots.AxesSubplot at 0x7f54b26b9860>"
      ]
     },
     "execution_count": 146,
     "metadata": {},
     "output_type": "execute_result"
    },
    {
     "data": {
      "image/png": "[encoded data removed]",
      "text/plain": [
       "<Figure size 1152x648 with 1 Axes>"
      ]
     },
     "metadata": {
      "needs_background": "light"
     },
     "output_type": "display_data"
    }
   ],
   "source": [
    "f, ax = plt.subplots(figsize=(16, 9))\n",
    "sns.barplot(x='Application', y = 'exec', hue='Scheme', data = data, palette=sns.color_palette(\"hls\", 8))\n",
    "sns.barplot(x='Application', y = 'diag', hue='Scheme', data = data, palette=sns.color_palette(\"husl\", 4))\n",
    "sns.barplot(x='Application', y = 'Init', hue='Scheme', data = data, palette=sns.color_palette('Paired', 8))\n"
   ]
  },
  {
   "cell_type": "code",
   "execution_count": null,
   "metadata": {},
   "outputs": [],
   "source": []
  },
  {
   "cell_type": "code",
   "execution_count": null,
   "metadata": {},
   "outputs": [],
   "source": []
  },
  {
   "cell_type": "code",
   "execution_count": null,
   "metadata": {},
   "outputs": [],
   "source": []
  },
  {
   "cell_type": "code",
   "execution_count": null,
   "metadata": {},
   "outputs": [],
   "source": []
  }
 ],
 "metadata": {
  "kernelspec": {
   "display_name": "Python 3",
   "language": "python",
   "name": "python3"
  },
  "language_info": {
   "codemirror_mode": {
    "name": "ipython",
    "version": 3
   },
   "file_extension": ".py",
   "mimetype": "text/x-python",
   "name": "python",
   "nbconvert_exporter": "python",
   "pygments_lexer": "ipython3",
   "version": "3.7.1"
  }
 },
 "nbformat": 4,
 "nbformat_minor": 2
}
