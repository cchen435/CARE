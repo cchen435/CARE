{
 "cells": [
  {
   "cell_type": "code",
   "execution_count": 1,
   "metadata": {},
   "outputs": [],
   "source": [
    "import pandas as pd\n",
    "import json"
   ]
  },
  {
   "cell_type": "code",
   "execution_count": 2,
   "metadata": {},
   "outputs": [],
   "source": [
    "def get_recovery_faults(ffile):\n",
    "    result = list()\n",
    "    with open(ffile) as fh:\n",
    "        for line in fh.readlines():\n",
    "            record = json.loads(line)\n",
    "            s = record['status']\n",
    "            if s != 'Normal':\n",
    "                continue\n",
    "            result.append(record['id'])\n",
    "    return result\n",
    "\n",
    "def parse_screen_json(ffile, IDs):   \n",
    "    result = list()\n",
    "    with open(ffile) as fh:\n",
    "        for line in fh.readlines():\n",
    "            record = json.loads(line)\n",
    "            if record['id'] not in IDs:\n",
    "                continue\n",
    "            loc = record['fault']['location']['type']\n",
    "            if loc == 'mem':\n",
    "                continue\n",
    "            addr = record['fault']['insn_address']\n",
    "            reg = record['fault']['location']['location']['base']\n",
    "            fvalue = record['fault']['faulty_value']\n",
    "            result.append({'ADDR': addr, 'REG': reg, 'VALUE': fvalue})\n",
    "    return result\n",
    "\n",
    "def target_statistic(data):\n",
    "    t = list()\n",
    "    for d in data:\n",
    "        t.append(d['REG'])\n",
    "    s = pd.Series(t)\n",
    "    p = s.value_counts()\n",
    "    print(p)\n",
    "    return p\n",
    "\n",
    "def save_to_file(path, data, targets = None):\n",
    "    fh = open(path, 'a+')\n",
    "    for r in data:\n",
    "        if targets and r['REG'] not in targets:\n",
    "            continue\n",
    "        json.dump(r, fh)\n",
    "        fh.write('\\n')\n",
    "        fh.flush()\n",
    "        "
   ]
  },
  {
   "cell_type": "code",
   "execution_count": 39,
   "metadata": {},
   "outputs": [
    {
     "name": "stdout",
     "output_type": "stream",
     "text": [
      "rdx    93\n",
      "rcx    83\n",
      "eax    60\n",
      "esi    60\n",
      "rax    53\n",
      "ecx    38\n",
      "rsi     4\n",
      "rbp     2\n",
      "edi     2\n",
      "edx     2\n",
      "rdi     2\n",
      "dtype: int64\n"
     ]
    }
   ],
   "source": [
    "# GTCP\n",
    "gtcp_replay = '/home/cchen/Documents/Projects/CARE/Benchmarks/GTCP/O0/RExpr/tmp-worker-0.json'\n",
    "gtcp_screen = '/home/cchen/Documents/Projects/CARE/Benchmarks/GTCP/O0/screen/screen_faults.json'\n",
    "IDs = get_recovery_faults(gtcp_replay)\n",
    "data = parse_screen_json(gtcp_screen, IDs)\n",
    "p = target_statistic(data)\n",
    "save_to_file('gtcp_mpi_fault.json', data, targets=['rdx', 'rcx', 'rax'])"
   ]
  },
  {
   "cell_type": "code",
   "execution_count": 41,
   "metadata": {},
   "outputs": [
    {
     "name": "stdout",
     "output_type": "stream",
     "text": [
      "rax     196\n",
      "rcx     138\n",
      "rdx      77\n",
      "edx      48\n",
      "ecx      28\n",
      "esi      27\n",
      "rsi      23\n",
      "eax      14\n",
      "xmm0      1\n",
      "dtype: int64\n"
     ]
    }
   ],
   "source": [
    "# miniMD\n",
    "minimd_replay = '/home/cchen/Documents/Projects/CARE/Benchmarks/miniMD/O0/RExpr/tmp-worker-0.json'\n",
    "minimd_screen = '/home/cchen/Documents/Projects/CARE/Benchmarks/miniMD/O0/screen/screen_faults.json'\n",
    "IDs = get_recovery_faults(minimd_replay)\n",
    "data = parse_screen_json(minimd_screen, IDs)\n",
    "p = target_statistic(data)\n",
    "save_to_file('minimd_mpi_fault.json', data, targets=['rax'])"
   ]
  },
  {
   "cell_type": "code",
   "execution_count": 5,
   "metadata": {},
   "outputs": [
    {
     "name": "stdout",
     "output_type": "stream",
     "text": [
      "rax    340\n",
      "rcx    268\n",
      "rdx     26\n",
      "dtype: int64\n"
     ]
    }
   ],
   "source": [
    "# HPCCG\n",
    "hpccg_replay = '/home/cchen/Documents/Projects/CARE/mpi/HPCCG/O0/RExpr/RExpr_replay.json'\n",
    "hpccg_screen = '/home/cchen/Documents/Projects/CARE/mpi/HPCCG/O0/screen/screen_faults.json'\n",
    "IDs = get_recovery_faults(hpccg_replay)\n",
    "data = parse_screen_json(hpccg_screen, IDs)\n",
    "p = target_statistic(data)\n",
    "save_to_file('hpccg_mpi_fault.json', data)"
   ]
  },
  {
   "cell_type": "code",
   "execution_count": 5,
   "metadata": {},
   "outputs": [
    {
     "name": "stdout",
     "output_type": "stream",
     "text": [
      "rcx    1\n",
      "rdx    1\n",
      "rdi    1\n",
      "dtype: int64\n",
      "[{'ADDR': '0x4225d1', 'REG': 'rdi', 'VALUE': 140737488343888}, {'ADDR': '0x418f15', 'REG': 'rdx', 'VALUE': 140737066913808}, {'ADDR': '0x418f0b', 'REG': 'rcx', 'VALUE': 140737028390928}]\n"
     ]
    }
   ],
   "source": [
    "# miniFE\n",
    "minife_replay = '/home/cchen/Documents/Projects/CARE/mpi/miniFE/O0/RExpr/RExpr_replay.json'\n",
    "minife_screen = '/home/cchen/Documents/Projects/CARE/mpi/miniFE/O0/screen/screen_faults.json'\n",
    "IDs = get_recovery_faults(minife_replay)\n",
    "data = parse_screen_json(minife_screen, IDs)\n",
    "p = target_statistic(data)\n",
    "print(data)\n",
    "save_to_file('minife_mpi_fault.json', data)"
   ]
  },
  {
   "cell_type": "code",
   "execution_count": 9,
   "metadata": {},
   "outputs": [
    {
     "name": "stdout",
     "output_type": "stream",
     "text": [
      "rcx    235\n",
      "rax    215\n",
      "rsi     29\n",
      "esi     15\n",
      "r12      7\n",
      "rdi      3\n",
      "rsp      3\n",
      "rdx      2\n",
      "dtype: int64\n"
     ]
    }
   ],
   "source": [
    "# lulesh\n",
    "lulesh_replay = '/home/cchen/Documents/Projects/CARE/mpi/lulesh/O0/RExpr/RExpr_replay.json'\n",
    "lulesh_screen = '/home/cchen/Documents/Projects/CARE/mpi/lulesh/O0/screen/screen_faults.json'\n",
    "IDs = get_recovery_faults(lulesh_replay)\n",
    "data = parse_screen_json(lulesh_screen, IDs)\n",
    "p = target_statistic(data)\n",
    "save_to_file('lulesh_mpi_fault.json', data)"
   ]
  },
  {
   "cell_type": "code",
   "execution_count": null,
   "metadata": {},
   "outputs": [],
   "source": []
  }
 ],
 "metadata": {
  "kernelspec": {
   "display_name": "Python 3",
   "language": "python",
   "name": "python3"
  },
  "language_info": {
   "codemirror_mode": {
    "name": "ipython",
    "version": 3
   },
   "file_extension": ".py",
   "mimetype": "text/x-python",
   "name": "python",
   "nbconvert_exporter": "python",
   "pygments_lexer": "ipython3",
   "version": "3.7.1"
  }
 },
 "nbformat": 4,
 "nbformat_minor": 2
}
