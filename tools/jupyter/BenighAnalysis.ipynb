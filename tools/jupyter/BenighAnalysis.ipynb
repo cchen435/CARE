{
 "cells": [
  {
   "cell_type": "code",
   "execution_count": 13,
   "metadata": {},
   "outputs": [],
   "source": [
    "import json\n",
    "import pandas as pd\n",
    "from pathlib2 import Path\n",
    "import sys\n",
    "import seaborn as sns\n",
    "import matplotlib.pyplot as plt"
   ]
  },
  {
   "cell_type": "code",
   "execution_count": 2,
   "metadata": {},
   "outputs": [],
   "source": [
    "class Experiment(object):\n",
    "  def __init__(self, path, output_checker):\n",
    "    self.expr_path = Path(path).resolve()\n",
    "    self.expr_name = self.expr_path.stem\n",
    "    self.expr_json = self.expr_path.joinpath(self.expr_name + '_faults.json')\n",
    "    self.expr_check = output_checker\n",
    "    \n",
    "    assert self.expr_json.exists(), \\\n",
    "          \"File {name} not exists\".format(name=self.expr_json)\n",
    "    \n",
    "    self.Records = pd.DataFrame()\n",
    "    self.load()\n",
    "   \n",
    "  def load(self):\n",
    "    func = dict()     # the function where the injection is performed\n",
    "    orig = dict()     # the original value of the target state\n",
    "    wrng = dict()     # the faulty value after injection\n",
    "    flip = dict()     # the bit flipped\n",
    "    stat = dict()     # the status of the target execution\n",
    "    spac = dict()     # the space, application space or library space\n",
    "    libs = dict()     # the library where the failure is manifested\n",
    "    regs = dict()\n",
    "    loc = dict()\n",
    "    \n",
    "    DF = pd.DataFrame()\n",
    "   \n",
    "    with open(self.expr_json, 'r') as fh:\n",
    "      faults = fh.readlines()\n",
    "      \n",
    "    runs = len(faults)\n",
    "    \n",
    "    for item in faults:\n",
    "      try:\n",
    "        record = json.loads(item)\n",
    "      except:\n",
    "        print(item)\n",
    "        print(item[370:380])\n",
    "        sys.exit()\n",
    "      \n",
    "      iid = record['id']    # injection id\n",
    "      func[iid] = record['fault']['parent_func']\n",
    "      orig[iid] = record['fault']['normal_value']\n",
    "      wrng[iid] = record['fault']['faulty_value']\n",
    "      flip[iid] = record['fault']['bit_flipped']\n",
    "      regs[iid] = record['fault']['location']['location']['base']\n",
    "      loc[iid] = record['fault']['location']['type']\n",
    "      if record['fault']['library'] == None:\n",
    "        spac[iid] = \"App\"\n",
    "        libs[iid] = \"None\"\n",
    "      else:\n",
    "        spac[iid] = \"lib\"\n",
    "        libs[iid] = record['fault']['library'] \n",
    "      stat[iid] = record['status']\n",
    "      \n",
    "    DF = pd.concat([DF, pd.Series(regs, name='regs')], axis=1, sort=True)\n",
    "    DF = pd.concat([DF, pd.Series(stat, name='stat')], axis=1, sort=True)\n",
    "    DF = pd.concat([DF, pd.Series(flip, name='bit')], axis=1, sort=True)\n",
    "    DF = pd.concat([DF, pd.Series(loc, name='loc')], axis=1, sort=True)\n",
    "    \n",
    "    self.Records = DF  \n",
    "    \n",
    "  def get_loc_dist(self):\n",
    "    return self.Records['loc'].value_counts()\n",
    "\n",
    "  def get_target_dist(self):\n",
    "    mem = self.Records[self.Records['loc'] == 'mem']['loc'].count()\n",
    "    reg = self.Records[self.Records['loc'] == 'reg']['regs'].value_counts()\n",
    "    reg['mem'] = mem\n",
    "    return reg\n",
    "\n",
    "  def get_normal_executions(self):\n",
    "    DF = self.Records\n",
    "    profile = self.expr_path.joinpath('profile/stdout')\n",
    "    \n",
    "    Normal = DF.loc[DF['stat'] == 'Normal']\n",
    "    ids = list(Normal.index)\n",
    "    res = list()\n",
    "    for i in ids:\n",
    "        run = self.expr_path.joinpath(i).joinpath('stdout')\n",
    "        try:\n",
    "            status = self.expr_check(profile, run)\n",
    "        except:\n",
    "            status = 'Hang'\n",
    "            print(i, '---> Profile: ', profile, '---> Run: ', run)\n",
    "        if status is 'Normal':\n",
    "            res.append(i)\n",
    "            \n",
    "    return res\n"
   ]
  },
  {
   "cell_type": "code",
   "execution_count": 3,
   "metadata": {},
   "outputs": [],
   "source": [
    "# GTC-P\n",
    "def gtcp_output_checker(profile, run):\n",
    "  with open(profile) as fh:\n",
    "    line = fh.readlines()[-21].split(' ')\n",
    "    profile_efield = float(line[1].strip(',').split('=')[1])\n",
    "    profile_eradial= float(line[2].strip(',').split('=')[1])\n",
    "    profile_entropyi = float(line[3].strip(',').split('=')[1])\n",
    "    profile_dflowi = float(line[4].strip(',').split('=')[1])\n",
    "    profile_pfluxi = float(line[5].strip(',').split('=')[1])\n",
    "    profile_efluxi = float(line[6].strip(',').split('=')[1])\n",
    "    profile_weights = float(line[11].strip(',').split('=')[1])\n",
    "\n",
    "  with open(run) as fh:\n",
    "    line = fh.readlines()[-21].split(' ')\n",
    "    run_efield = float(line[1].strip(',').split('=')[1])\n",
    "    run_eradial= float(line[2].strip(',').split('=')[1])\n",
    "    run_entropyi = float(line[3].strip(',').split('=')[1])\n",
    "    run_dflowi = float(line[4].strip(',').split('=')[1])\n",
    "    run_pfluxi = float(line[5].strip(',').split('=')[1])\n",
    "    run_efluxi = float(line[6].strip(',').split('=')[1])\n",
    "  \n",
    "  efield_diff = abs(run_efield - profile_efield)\n",
    "  eradial_diff = abs(run_eradial - profile_eradial)\n",
    "  entropyi_diff = abs(run_entropyi - profile_entropyi)\n",
    "  dflowi_diff = abs(run_dflowi - profile_dflowi)\n",
    "  pfluxi_diff = abs(run_pfluxi - profile_pfluxi)\n",
    "  efluxi_diff = abs(run_efluxi - profile_efluxi)\n",
    "  \n",
    "  if efield_diff != 0.0 or eradial_diff != 0.0 or entropyi_diff != 0.0:\n",
    "    return 'SDC'\n",
    "  if pfluxi_diff != 0.0 or efluxi_diff != 0.0 :\n",
    "    return 'SDC'\n",
    "  return \"Normal\""
   ]
  },
  {
   "cell_type": "code",
   "execution_count": 15,
   "metadata": {},
   "outputs": [
    {
     "data": {
      "image/png": "[encoded data removed]",
      "text/plain": [
       "<Figure size 1152x648 with 1 Axes>"
      ]
     },
     "metadata": {
      "needs_background": "light"
     },
     "output_type": "display_data"
    }
   ],
   "source": [
    "expr = Experiment('/home/cchen/Documents/Projects/CARE/Benchmarks/GTCP/GTCP_Dec_30', gtcp_output_checker)\n",
    "loc = expr.get_target_dist()\n",
    "gpr = 0\n",
    "fpr = 0\n",
    "for i in loc.index:\n",
    "    if i == 'mem': \n",
    "        continue\n",
    "    elif i.startswith('xmm'):\n",
    "        fpr = fpr + loc[i]\n",
    "    else:\n",
    "        gpr = gpr + loc[i]\n",
    "        \n",
    "target = pd.DataFrame({'type': ['mem', 'gpr', 'fpr'], 'Value': [loc['mem'], gpr, fpr]})\n",
    "ax = sns.barplot(x='type', y='Value', data=target)\n",
    "ax.set_ylim([0,7000])\n",
    "\n",
    "for p in ax.patches:\n",
    "    height = p.get_height()\n",
    "    ax.text(p.get_x()+p.get_width()/2.,\n",
    "            height+200,\n",
    "            '{:1.0f}'.format(height),\n",
    "            ha=\"center\", fontsize=28) \n",
    "    \n",
    "plt.gcf().set_size_inches(16, 9)\n",
    "ax.set_ylabel(\"Count\", fontsize=36)\n",
    "ax.set_xlabel(\"\", fontsize=36)\n",
    "ax.tick_params(labelsize=28)"
   ]
  },
  {
   "cell_type": "code",
   "execution_count": 16,
   "metadata": {},
   "outputs": [
    {
     "name": "stdout",
     "output_type": "stream",
     "text": [
      "inject-0943 ---> Profile:  /home/cchen/Documents/Projects/CARE/Benchmarks/GTCP/GTCP_Dec_30/profile/stdout ---> Run:  /home/cchen/Documents/Projects/CARE/Benchmarks/GTCP/GTCP_Dec_30/inject-0943/stdout\n",
      "inject-1386 ---> Profile:  /home/cchen/Documents/Projects/CARE/Benchmarks/GTCP/GTCP_Dec_30/profile/stdout ---> Run:  /home/cchen/Documents/Projects/CARE/Benchmarks/GTCP/GTCP_Dec_30/inject-1386/stdout\n",
      "inject-3749 ---> Profile:  /home/cchen/Documents/Projects/CARE/Benchmarks/GTCP/GTCP_Dec_30/profile/stdout ---> Run:  /home/cchen/Documents/Projects/CARE/Benchmarks/GTCP/GTCP_Dec_30/inject-3749/stdout\n",
      "inject-6905 ---> Profile:  /home/cchen/Documents/Projects/CARE/Benchmarks/GTCP/GTCP_Dec_30/profile/stdout ---> Run:  /home/cchen/Documents/Projects/CARE/Benchmarks/GTCP/GTCP_Dec_30/inject-6905/stdout\n",
      "inject-7243 ---> Profile:  /home/cchen/Documents/Projects/CARE/Benchmarks/GTCP/GTCP_Dec_30/profile/stdout ---> Run:  /home/cchen/Documents/Projects/CARE/Benchmarks/GTCP/GTCP_Dec_30/inject-7243/stdout\n",
      "inject-7634 ---> Profile:  /home/cchen/Documents/Projects/CARE/Benchmarks/GTCP/GTCP_Dec_30/profile/stdout ---> Run:  /home/cchen/Documents/Projects/CARE/Benchmarks/GTCP/GTCP_Dec_30/inject-7634/stdout\n",
      "inject-9974 ---> Profile:  /home/cchen/Documents/Projects/CARE/Benchmarks/GTCP/GTCP_Dec_30/profile/stdout ---> Run:  /home/cchen/Documents/Projects/CARE/Benchmarks/GTCP/GTCP_Dec_30/inject-9974/stdout\n"
     ]
    }
   ],
   "source": [
    "ids = expr.get_normal_executions()"
   ]
  },
  {
   "cell_type": "code",
   "execution_count": 18,
   "metadata": {},
   "outputs": [
    {
     "name": "stdout",
     "output_type": "stream",
     "text": [
      "reg    6124\n",
      "mem     746\n",
      "Name: loc, dtype: int64\n"
     ]
    }
   ],
   "source": [
    "candidates = expr.Records.loc[ids, :]\n",
    "print(candidates['loc'].value_counts())"
   ]
  },
  {
   "cell_type": "code",
   "execution_count": 20,
   "metadata": {},
   "outputs": [
    {
     "name": "stdout",
     "output_type": "stream",
     "text": [
      "regs    4777\n",
      "stat    4777\n",
      "bit     4777\n",
      "loc     4777\n",
      "dtype: int64 regs    1347\n",
      "stat    1347\n",
      "bit     1347\n",
      "loc     1347\n",
      "dtype: int64\n"
     ]
    }
   ],
   "source": [
    "candidates = candidates.loc[candidates['loc']=='reg']\n",
    "fpregs = candidates.loc[candidates['regs'].str.startswith('xmm')].count()\n",
    "gpregs = candidates.loc[~candidates['regs'].str.startswith('xmm')].count()\n",
    "print(fpregs, gpregs)"
   ]
  },
  {
   "cell_type": "code",
   "execution_count": 45,
   "metadata": {},
   "outputs": [
    {
     "name": "stdout",
     "output_type": "stream",
     "text": [
      "(-0.001, 8.0]    1372\n",
      "(8.0, 16.0]      1199\n",
      "(16.0, 24.0]     1176\n",
      "(24.0, 32.0]     1030\n",
      "(56.0, 64.0]        0\n",
      "(48.0, 56.0]        0\n",
      "(40.0, 48.0]        0\n",
      "(32.0, 40.0]        0\n",
      "Name: bit, dtype: int64\n"
     ]
    }
   ],
   "source": [
    "bins = [0, 8, 16, 24, 32, 40, 48, 56, 64]\n",
    "fbits = fpregs['bit'].value_counts(bins=bins)\n",
    "print(fbits)"
   ]
  },
  {
   "cell_type": "code",
   "execution_count": 43,
   "metadata": {},
   "outputs": [
    {
     "name": "stdout",
     "output_type": "stream",
     "text": [
      "(-0.001, 8.0]    454\n",
      "(8.0, 16.0]      342\n",
      "(16.0, 24.0]     300\n",
      "(24.0, 32.0]     224\n",
      "(56.0, 64.0]      15\n",
      "(48.0, 56.0]       6\n",
      "(32.0, 40.0]       4\n",
      "(40.0, 48.0]       2\n",
      "Name: bit, dtype: int64\n"
     ]
    }
   ],
   "source": [
    "bins = [0, 8, 16, 24, 32, 40, 48, 56, 64]\n",
    "gbits = gpregs['bit'].value_counts(bins=bins)\n",
    "print(gbits)"
   ]
  },
  {
   "cell_type": "code",
   "execution_count": 46,
   "metadata": {},
   "outputs": [
    {
     "name": "stdout",
     "output_type": "stream",
     "text": [
      "               regs    stat  bit  loc\n",
      "inject-0020     eax  Normal    9  reg\n",
      "inject-0030     edx  Normal    0  reg\n",
      "inject-0032     ebp  Normal    0  reg\n",
      "inject-0034     rcx  Normal    3  reg\n",
      "inject-0037     ecx  Normal    3  reg\n",
      "inject-0049     edx  Normal   10  reg\n",
      "inject-0050     eax  Normal   17  reg\n",
      "inject-0055     ecx  Normal   21  reg\n",
      "inject-0071  eflags  Normal    6  reg\n",
      "inject-0082     eax  Normal   28  reg\n",
      "inject-0089     rsi  Normal    3  reg\n",
      "inject-0092  eflags  Normal   12  reg\n",
      "inject-0094     rdi  Normal   18  reg\n",
      "inject-0128     esi  Normal    8  reg\n",
      "inject-0141  eflags  Normal    7  reg\n",
      "inject-0145    r12d  Normal    2  reg\n",
      "inject-0148  eflags  Normal   14  reg\n",
      "inject-0156  eflags  Normal   25  reg\n",
      "inject-0160     rsi  Normal    2  reg\n",
      "inject-0177     ecx  Normal    4  reg\n",
      "inject-0179     edx  Normal   30  reg\n",
      "inject-0180     esi  Normal   14  reg\n",
      "inject-0191     ecx  Normal   27  reg\n",
      "inject-0195    r15d  Normal   24  reg\n",
      "inject-0214  eflags  Normal    2  reg\n",
      "inject-0216  eflags  Normal    4  reg\n",
      "inject-0218     eax  Normal    9  reg\n",
      "inject-0223     rax  Normal    2  reg\n",
      "inject-0236     ecx  Normal    0  reg\n",
      "inject-0237     ecx  Normal    6  reg\n",
      "...             ...     ...  ...  ...\n",
      "inject-9762     ecx  Normal   19  reg\n",
      "inject-9765     eax  Normal   16  reg\n",
      "inject-9768     ecx  Normal    9  reg\n",
      "inject-9774     ecx  Normal   19  reg\n",
      "inject-9775     eax  Normal    2  reg\n",
      "inject-9791     ecx  Normal   19  reg\n",
      "inject-9792  eflags  Normal    5  reg\n",
      "inject-9798     ecx  Normal   31  reg\n",
      "inject-9801     ecx  Normal    1  reg\n",
      "inject-9805  eflags  Normal   27  reg\n",
      "inject-9818     ecx  Normal   29  reg\n",
      "inject-9821  eflags  Normal    2  reg\n",
      "inject-9829  eflags  Normal   13  reg\n",
      "inject-9832  eflags  Normal    7  reg\n",
      "inject-9838     esi  Normal   14  reg\n",
      "inject-9863     ecx  Normal    1  reg\n",
      "inject-9866  eflags  Normal    1  reg\n",
      "inject-9867     ecx  Normal    3  reg\n",
      "inject-9873     ecx  Normal    2  reg\n",
      "inject-9876     eax  Normal   18  reg\n",
      "inject-9880     ecx  Normal    1  reg\n",
      "inject-9893     ecx  Normal    7  reg\n",
      "inject-9917     edi  Normal   15  reg\n",
      "inject-9918     esi  Normal   26  reg\n",
      "inject-9928     ecx  Normal    5  reg\n",
      "inject-9931     ecx  Normal    8  reg\n",
      "inject-9950     ecx  Normal   12  reg\n",
      "inject-9954  eflags  Normal   17  reg\n",
      "inject-9962     eax  Normal   13  reg\n",
      "inject-9983  eflags  Normal   11  reg\n",
      "\n",
      "[1347 rows x 4 columns]\n"
     ]
    }
   ],
   "source": [
    "print(gpregs)"
   ]
  },
  {
   "cell_type": "code",
   "execution_count": null,
   "metadata": {},
   "outputs": [],
   "source": []
  }
 ],
 "metadata": {
  "kernelspec": {
   "display_name": "Python 3",
   "language": "python",
   "name": "python3"
  },
  "language_info": {
   "codemirror_mode": {
    "name": "ipython",
    "version": 3
   },
   "file_extension": ".py",
   "mimetype": "text/x-python",
   "name": "python",
   "nbconvert_exporter": "python",
   "pygments_lexer": "ipython3",
   "version": "3.7.1"
  }
 },
 "nbformat": 4,
 "nbformat_minor": 2
}
